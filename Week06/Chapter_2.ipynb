{
  "cells": [
    {
      "cell_type": "code",
      "metadata": {
        "ExecuteTime": {
          "end_time": "2021-03-22T03:54:42.526837Z",
          "start_time": "2021-03-22T03:54:41.927847Z"
        },
        "tags": [
          "remove_cell"
        ]
      },
      "source": [
        "from tqdm.autonotebook import tqdm\n",
        "\n",
        "import numpy as np\n",
        "import seaborn as sns\n",
        "import matplotlib\n",
        "import matplotlib.pyplot as plt\n",
        "\n",
        "import pandas as pd\n",
        "\n",
        "import time"
      ],
      "execution_count": null,
      "outputs": []
    },
    {
      "cell_type": "code",
      "metadata": {
        "ExecuteTime": {
          "end_time": "2021-03-22T03:54:42.998042Z",
          "start_time": "2021-03-22T03:54:42.534066Z"
        }
      },
      "source": [
        "import torch\n",
        "import torch.nn as nn\n",
        "import torch.nn.functional as F\n",
        "from torch.utils.data import * \n",
        "from idlmam import *"
      ],
      "execution_count": null,
      "outputs": []
    },
    {
      "cell_type": "code",
      "metadata": {
        "ExecuteTime": {
          "end_time": "2021-03-22T03:54:43.005648Z",
          "start_time": "2021-03-22T03:54:43.000225Z"
        },
        "tags": [
          "remove_cell"
        ]
      },
      "source": [
        "%matplotlib inline\n",
        "from IPython.display import set_matplotlib_formats\n",
        "set_matplotlib_formats('png', 'pdf')\n",
        "\n",
        "def set_seed(seed):\n",
        "    torch.manual_seed(seed)\n",
        "    np.random.seed(seed)\n",
        "\n",
        "torch.backends.cudnn.deterministic=True\n",
        "set_seed(42)"
      ],
      "execution_count": null,
      "outputs": []
    },
    {
      "cell_type": "code",
      "metadata": {
        "ExecuteTime": {
          "end_time": "2021-03-22T03:54:43.012355Z",
          "start_time": "2021-03-22T03:54:43.007183Z"
        }
      },
      "source": [
        "def train_simple_network(model, loss_func, training_loader, epochs=20, device=\"cpu\"):\n",
        "    #Yellow step is done here. We create the optimizer and move the model to the compute device\n",
        "    #SGD is Stochastic Gradient Decent over the parameters $\\Theta$\n",
        "    optimizer = torch.optim.SGD(model.parameters(), lr=0.001)\n",
        "\n",
        "    #Place the model on the correct compute resource (CPU or GPU)\n",
        "    model.to(device)\n",
        "    #The next two for loops handle the Red steps, iterating through all the data (batches) multiple times (epochs)\n",
        "    for epoch in tqdm(range(epochs), desc=\"Epoch\"):\n",
        "    \n",
        "        model = model.train()#Put our model in training mode\n",
        "        running_loss = 0.0\n",
        "\n",
        "        for inputs, labels in tqdm(training_loader, desc=\"Batch\", leave=False):\n",
        "            #Move the batch of data to the device we are using. this is the last red step\n",
        "            inputs = moveTo(inputs, device)\n",
        "            labels = moveTo(labels, device)\n",
        "\n",
        "            #First a yellow step, prepare the optimizer. Most PyTorch code will do this first to make sure everything is in a clean and ready state. \n",
        "\n",
        "            #PyTorch stores gradients in a mutable data structure. So we need to set it to a clean state before we use it. \n",
        "            #Otherwise, it will have old information from a previous iteration\n",
        "            optimizer.zero_grad()\n",
        "\n",
        "            #The next two lines of code perform the two blue steps\n",
        "            y_hat = model(inputs) #this just computed $f_\\theta(\\boldsymbol{x_i})$\n",
        "\n",
        "            # Compute loss.\n",
        "            loss = loss_func(y_hat, labels)\n",
        "\n",
        "            #Now the remaining two yellow steps, compute the gradient and \".step()\" the optimizer\n",
        "            loss.backward()# $\\nabla_\\Theta$ just got computed by this one call\n",
        "\n",
        "            #Now we just need to update all the parameters\n",
        "            optimizer.step()# $\\Theta_{k+1} = \\Theta_k − \\eta \\cdot \\nabla_\\Theta \\ell(\\hat{y}, y)$\n",
        "\n",
        "            #Now we are just grabbing some information we would like to have\n",
        "            running_loss += loss.item()\n",
        "#Caption: This code defines a simple training loop, which can be used to learn the parameters $\\Theta$ to almost any neural network $f_\\Theta(\\cdot)$ we will use in this book. "
      ],
      "execution_count": null,
      "outputs": []
    },
    {
      "cell_type": "code",
      "metadata": {
        "ExecuteTime": {
          "end_time": "2021-03-22T03:54:43.246581Z",
          "start_time": "2021-03-22T03:54:43.013603Z"
        }
      },
      "source": [
        "#Crate a 1-dimensional input\n",
        "X = np.linspace(0, 20, num=200)\n",
        "#create an output\n",
        "y = X + np.sin(X)*2 + np.random.normal(size=X.shape)\n",
        "sns.scatterplot(x=X, y=y)"
      ],
      "execution_count": null,
      "outputs": []
    },
    {
      "cell_type": "code",
      "metadata": {
        "ExecuteTime": {
          "end_time": "2021-03-22T03:54:43.251798Z",
          "start_time": "2021-03-22T03:54:43.247819Z"
        }
      },
      "source": [
        "class Simple1DRegressionDataset(Dataset):\n",
        "        \n",
        "    def __init__(self, X, y):\n",
        "        super(Simple1DRegressionDataset, self).__init__()\n",
        "        self.X = X.reshape(-1,1)\n",
        "        self.y = y.reshape(-1,1)\n",
        "        \n",
        "    \n",
        "    def __getitem__(self, index):\n",
        "        return torch.tensor(self.X[index,:], dtype=torch.float32), torch.tensor(self.y[index], dtype=torch.float32)\n",
        "\n",
        "    def __len__(self):\n",
        "        return self.X.shape[0]\n",
        "    \n",
        "training_loader = DataLoader(Simple1DRegressionDataset(X, y), shuffle=True)"
      ],
      "execution_count": null,
      "outputs": []
    },
    {
      "cell_type": "code",
      "metadata": {
        "ExecuteTime": {
          "end_time": "2021-03-22T03:54:50.229124Z",
          "start_time": "2021-03-22T03:54:43.252990Z"
        },
        "tags": [
          "remove_output"
        ]
      },
      "source": [
        "in_features = 1\n",
        "out_features = 1\n",
        "model = nn.Linear(in_features, out_features)\n",
        "loss_func = nn.MSELoss()\n",
        "\n",
        "device = torch.device(\"cuda\")\n",
        "train_simple_network(model, loss_func, training_loader, device=device)"
      ],
      "execution_count": null,
      "outputs": []
    },
    {
      "cell_type": "code",
      "metadata": {
        "ExecuteTime": {
          "end_time": "2021-03-22T03:54:50.234488Z",
          "start_time": "2021-03-22T03:54:50.231083Z"
        }
      },
      "source": [
        "with torch.no_grad():\n",
        "    Y_pred = model(torch.tensor(X.reshape(-1,1), device=device, dtype=torch.float32)).cpu().numpy()"
      ],
      "execution_count": null,
      "outputs": []
    },
    {
      "cell_type": "code",
      "metadata": {
        "ExecuteTime": {
          "end_time": "2021-03-22T03:54:50.546517Z",
          "start_time": "2021-03-22T03:54:50.236073Z"
        }
      },
      "source": [
        "sns.scatterplot(x=X, y=y, color='blue', label='Data') #The data\n",
        "sns.lineplot(x=X, y=Y_pred.ravel(), color='red', label='Linear Model') #What our model learned"
      ],
      "execution_count": null,
      "outputs": []
    },
    {
      "cell_type": "code",
      "metadata": {
        "ExecuteTime": {
          "end_time": "2021-03-22T03:54:52.736548Z",
          "start_time": "2021-03-22T03:54:50.548436Z"
        },
        "tags": [
          "remove_output"
        ]
      },
      "source": [
        "#Input \"layer\" is implicitly the input \n",
        "model = nn.Sequential(\n",
        "    nn.Linear(1,  10), #Hidden layer\n",
        "    nn.Linear(10, 1), #Output layer\n",
        ")\n",
        "\n",
        "train_simple_network(model, loss_func, training_loader)"
      ],
      "execution_count": null,
      "outputs": []
    },
    {
      "cell_type": "code",
      "metadata": {
        "ExecuteTime": {
          "end_time": "2021-03-22T03:54:53.011027Z",
          "start_time": "2021-03-22T03:54:52.739923Z"
        }
      },
      "source": [
        "with torch.no_grad():\n",
        "    Y_pred = model(torch.tensor(X.reshape(-1,1), dtype=torch.float32)).cpu().numpy() #Shape of (N, 1)\n",
        "    \n",
        "sns.scatterplot(x=X, y=y, color='blue', label='Data') #The data\n",
        "sns.lineplot(x=X, y=Y_pred.ravel(), color='red', label='Model') #What our model learned"
      ],
      "execution_count": null,
      "outputs": []
    },
    {
      "cell_type": "code",
      "metadata": {
        "ExecuteTime": {
          "end_time": "2021-03-22T03:54:53.524918Z",
          "start_time": "2021-03-22T03:54:53.012690Z"
        }
      },
      "source": [
        "activation_input = np.linspace(-2, 2, num=200)\n",
        "tanh_activation = np.tanh(activation_input)\n",
        "sigmoid_activation = np.exp(activation_input)/(np.exp(activation_input)+1)\n",
        "sns.lineplot(x=activation_input, y=activation_input, color='black', label=\"linear\")\n",
        "sns.lineplot(x=activation_input, y=tanh_activation, color='red', label=\"tanh(x)\")\n",
        "ax = sns.lineplot(x=activation_input, y=sigmoid_activation, color='blue', label=\"$\\sigma(x)$\")\n",
        "ax.set_xlabel('Input value x')\n",
        "ax.set_ylabel('Activation')"
      ],
      "execution_count": null,
      "outputs": []
    },
    {
      "cell_type": "code",
      "metadata": {
        "ExecuteTime": {
          "end_time": "2021-03-22T03:55:13.809330Z",
          "start_time": "2021-03-22T03:54:53.526463Z"
        },
        "tags": [
          "remove_output"
        ]
      },
      "source": [
        "model = nn.Sequential(\n",
        "    nn.Linear(1,  10),#hidden layer\n",
        "    nn.Tanh(),#activation\n",
        "    nn.Linear(10, 1),#output layer\n",
        ")\n",
        "\n",
        "train_simple_network(model, loss_func, training_loader, epochs=200)"
      ],
      "execution_count": null,
      "outputs": []
    },
    {
      "cell_type": "code",
      "metadata": {
        "ExecuteTime": {
          "end_time": "2021-03-22T03:55:14.168007Z",
          "start_time": "2021-03-22T03:55:13.810608Z"
        }
      },
      "source": [
        "with torch.no_grad():\n",
        "    Y_pred = model(torch.tensor(X.reshape(-1,1), dtype=torch.float32)).cpu().numpy()\n",
        "    \n",
        "sns.scatterplot(x=X, y=y, color='blue', label='Data') #The data\n",
        "sns.lineplot(x=X, y=Y_pred.ravel(), color='red', label='Model') #What our model learned"
      ],
      "execution_count": null,
      "outputs": []
    },
    {
      "cell_type": "code",
      "metadata": {
        "ExecuteTime": {
          "end_time": "2021-03-22T03:55:14.635122Z",
          "start_time": "2021-03-22T03:55:14.169268Z"
        }
      },
      "source": [
        "from sklearn.datasets import make_moons\n",
        "X, y = make_moons(n_samples=200, noise=0.05)\n",
        "sns.scatterplot(x=X[:,0], y=X[:,1], hue=y, style=y)"
      ],
      "execution_count": null,
      "outputs": []
    },
    {
      "cell_type": "code",
      "metadata": {
        "ExecuteTime": {
          "end_time": "2021-03-22T03:55:14.639500Z",
          "start_time": "2021-03-22T03:55:14.636500Z"
        }
      },
      "source": [
        "classification_dataset = torch.utils.data.TensorDataset(torch.tensor(X, dtype=torch.float32), torch.tensor(y, dtype=torch.long))\n",
        "training_loader = DataLoader(classification_dataset)"
      ],
      "execution_count": null,
      "outputs": []
    },
    {
      "cell_type": "code",
      "metadata": {
        "ExecuteTime": {
          "end_time": "2021-03-22T03:55:14.645626Z",
          "start_time": "2021-03-22T03:55:14.640916Z"
        }
      },
      "source": [
        "in_features = 2\n",
        "out_features = 2\n",
        "model = nn.Linear(in_features, out_features)"
      ],
      "execution_count": null,
      "outputs": []
    },
    {
      "cell_type": "code",
      "metadata": {
        "ExecuteTime": {
          "end_time": "2021-03-22T03:55:18.756503Z",
          "start_time": "2021-03-22T03:55:14.647095Z"
        },
        "tags": [
          "remove_output"
        ]
      },
      "source": [
        "loss_func = nn.CrossEntropyLoss()\n",
        "train_simple_network(model, loss_func, training_loader, epochs=50)"
      ],
      "execution_count": null,
      "outputs": []
    },
    {
      "cell_type": "code",
      "metadata": {
        "ExecuteTime": {
          "end_time": "2021-03-22T03:55:19.088127Z",
          "start_time": "2021-03-22T03:55:18.757663Z"
        }
      },
      "source": [
        "def visualize2DSoftmax(X, y, model, title=None):\n",
        "    x_min = np.min(X[:,0])-0.5\n",
        "    x_max = np.max(X[:,0])+0.5\n",
        "    y_min = np.min(X[:,1])-0.5\n",
        "    y_max = np.max(X[:,1])+0.5\n",
        "    xv, yv = np.meshgrid(np.linspace(x_min, x_max, num=20), np.linspace(y_min, y_max, num=20), indexing='ij')\n",
        "    xy_v = np.hstack((xv.reshape(-1,1), yv.reshape(-1,1)))\n",
        "    with torch.no_grad():\n",
        "        logits = model(torch.tensor(xy_v, dtype=torch.float32))\n",
        "        y_hat = F.softmax(logits, dim=1).numpy()\n",
        "\n",
        "    cs = plt.contourf(xv, yv, y_hat[:,0].reshape(20,20), levels=np.linspace(0,1,num=20), cmap=plt.cm.RdYlBu)\n",
        "    ax = plt.gca()\n",
        "    sns.scatterplot(x=X[:,0], y=X[:,1], hue=y, style=y, ax=ax)\n",
        "    if title is not None:\n",
        "        ax.set_title(title)\n",
        "\n",
        "visualize2DSoftmax(X, y, model)"
      ],
      "execution_count": null,
      "outputs": []
    },
    {
      "cell_type": "code",
      "metadata": {
        "ExecuteTime": {
          "end_time": "2021-03-22T03:55:48.545668Z",
          "start_time": "2021-03-22T03:55:19.089448Z"
        },
        "tags": [
          "remove_output"
        ]
      },
      "source": [
        "model = nn.Sequential(\n",
        "    nn.Linear(2,  30),\n",
        "    nn.Tanh(),\n",
        "    nn.Linear(30,  30),\n",
        "    nn.Tanh(),\n",
        "    nn.Linear(30, 2),\n",
        ")\n",
        "train_simple_network(model, loss_func, training_loader, epochs=250)"
      ],
      "execution_count": null,
      "outputs": []
    },
    {
      "cell_type": "code",
      "metadata": {
        "ExecuteTime": {
          "end_time": "2021-03-22T03:55:48.890523Z",
          "start_time": "2021-03-22T03:55:48.546909Z"
        }
      },
      "source": [
        "visualize2DSoftmax(X, y, model)"
      ],
      "execution_count": null,
      "outputs": []
    },
    {
      "cell_type": "code",
      "metadata": {
        "ExecuteTime": {
          "end_time": "2021-03-22T03:55:48.897980Z",
          "start_time": "2021-03-22T03:55:48.891771Z"
        },
        "tags": [
          "remove_cell"
        ]
      },
      "source": [
        "def run_epoch(model, optimizer, data_loader, loss_func, device, results, score_funcs, prefix=\"\", desc=None):\n",
        "    running_loss = []\n",
        "    y_true = []\n",
        "    y_pred = []\n",
        "    start = time.time()\n",
        "    for inputs, labels in tqdm(data_loader, desc=desc, leave=False):\n",
        "        #Move the batch to the device we are using. \n",
        "        inputs = moveTo(inputs, device)\n",
        "        labels = moveTo(labels, device)\n",
        "\n",
        "        y_hat = model(inputs) #this just computed f_Θ(x(i))\n",
        "        # Compute loss.\n",
        "        loss = loss_func(y_hat, labels)\n",
        "\n",
        "        if model.training:\n",
        "            loss.backward()\n",
        "            optimizer.step()\n",
        "            optimizer.zero_grad()\n",
        "\n",
        "        #Now we are just grabbing some information we would like to have\n",
        "        running_loss.append(loss.item())\n",
        "\n",
        "        if len(score_funcs) > 0 and isinstance(labels, torch.Tensor):\n",
        "            #moving labels & predictions back to CPU for computing / storing predictions\n",
        "            labels = labels.detach().cpu().numpy()\n",
        "            y_hat = y_hat.detach().cpu().numpy()\n",
        "            #add to predictions so far\n",
        "            y_true.extend(labels.tolist())\n",
        "            y_pred.extend(y_hat.tolist())\n",
        "    #end training epoch\n",
        "    end = time.time()\n",
        "    \n",
        "    y_pred = np.asarray(y_pred)\n",
        "    if len(y_pred.shape) == 2 and y_pred.shape[1] > 1: #We have a classification problem, convert to labels\n",
        "        y_pred = np.argmax(y_pred, axis=1)\n",
        "    #Else, we assume we are working on a regression problem\n",
        "    \n",
        "    results[prefix + \" loss\"].append( np.mean(running_loss) )\n",
        "    for name, score_func in score_funcs.items():\n",
        "        try:\n",
        "            results[prefix + \" \" + name].append( score_func(y_true, y_pred) )\n",
        "        except:\n",
        "            results[prefix + \" \" + name].append(float(\"NaN\"))\n",
        "    return end-start #time spent on epoch"
      ],
      "execution_count": null,
      "outputs": []
    },
    {
      "cell_type": "code",
      "metadata": {
        "ExecuteTime": {
          "end_time": "2021-03-22T03:55:48.905343Z",
          "start_time": "2021-03-22T03:55:48.899287Z"
        },
        "tags": [
          "remove_cell"
        ]
      },
      "source": [
        "def train_simple_network(model, loss_func, train_loader, test_loader=None, score_funcs=None, \n",
        "                         epochs=50, device=\"cpu\", checkpoint_file=None):\n",
        "    to_track = [\"epoch\", \"total time\", \"train loss\"]\n",
        "    if test_loader is not None:\n",
        "        to_track.append(\"test loss\")\n",
        "    for eval_score in score_funcs:\n",
        "        to_track.append(\"train \" + eval_score )\n",
        "        if test_loader is not None:\n",
        "            to_track.append(\"test \" + eval_score )\n",
        "        \n",
        "    total_train_time = 0 #How long have we spent in the training loop? \n",
        "    results = {}\n",
        "    #Initialize every item with an empty list\n",
        "    for item in to_track:\n",
        "        results[item] = []\n",
        "        \n",
        "    #SGD is Stochastic Gradient Decent.\n",
        "    optimizer = torch.optim.SGD(model.parameters(), lr=0.001)\n",
        "    #Place the model on the correct compute resource (CPU or GPU)\n",
        "    model.to(device)\n",
        "    for epoch in tqdm(range(epochs), desc=\"Epoch\"):\n",
        "        model = model.train()#Put our model in training mode\n",
        "        \n",
        "        total_train_time += run_epoch(model, optimizer, train_loader, loss_func, device, results, score_funcs, prefix=\"train\", desc=\"Training\")\n",
        "\n",
        "        results[\"total time\"].append( total_train_time )\n",
        "        results[\"epoch\"].append( epoch )\n",
        "        \n",
        "        if test_loader is not None:\n",
        "            model = model.eval()\n",
        "            with torch.no_grad():\n",
        "                run_epoch(model, optimizer, test_loader, loss_func, device, results, score_funcs, prefix=\"test\", desc=\"Testing\")\n",
        "                    \n",
        "    if checkpoint_file is not None:\n",
        "        torch.save({\n",
        "            'epoch': epoch,\n",
        "            'model_state_dict': model.state_dict(),\n",
        "            'optimizer_state_dict': optimizer.state_dict(),\n",
        "            'results' : results\n",
        "            }, checkpoint_file)\n",
        "\n",
        "    return pd.DataFrame.from_dict(results)"
      ],
      "execution_count": null,
      "outputs": []
    },
    {
      "cell_type": "code",
      "metadata": {
        "ExecuteTime": {
          "end_time": "2021-03-22T03:55:48.916969Z",
          "start_time": "2021-03-22T03:55:48.906486Z"
        }
      },
      "source": [
        "from sklearn.metrics import accuracy_score\n",
        "from sklearn.metrics import f1_score"
      ],
      "execution_count": null,
      "outputs": []
    },
    {
      "cell_type": "code",
      "metadata": {
        "ExecuteTime": {
          "end_time": "2021-03-22T03:55:48.924011Z",
          "start_time": "2021-03-22T03:55:48.918223Z"
        }
      },
      "source": [
        "X_train, y_train = make_moons(n_samples=8000, noise=0.4)\n",
        "X_test, y_test = make_moons(n_samples=200, noise=0.4)\n",
        "train_dataset = TensorDataset(torch.tensor(X_train, dtype=torch.float32), torch.tensor(y_train, dtype=torch.long))\n",
        "test_dataset = TensorDataset(torch.tensor(X_test, dtype=torch.float32), torch.tensor(y_test, dtype=torch.long))\n",
        "training_loader = DataLoader(train_dataset, shuffle=True)\n",
        "testing_loader = DataLoader(test_dataset)"
      ],
      "execution_count": null,
      "outputs": []
    },
    {
      "cell_type": "code",
      "metadata": {
        "ExecuteTime": {
          "end_time": "2021-03-22T03:56:08.551833Z",
          "start_time": "2021-03-22T03:55:48.925105Z"
        },
        "tags": [
          "remove_output"
        ]
      },
      "source": [
        "model = nn.Sequential(\n",
        "    nn.Linear(2,  30),\n",
        "    nn.Tanh(),\n",
        "    nn.Linear(30,  30),\n",
        "    nn.Tanh(),\n",
        "    nn.Linear(30, 2),\n",
        ")\n",
        "results_pd = train_simple_network(model, loss_func, training_loader, epochs=5, test_loader=testing_loader, checkpoint_file='model.pt', score_funcs={'Acc':accuracy_score,'F1': f1_score})"
      ],
      "execution_count": null,
      "outputs": []
    },
    {
      "cell_type": "code",
      "metadata": {
        "ExecuteTime": {
          "end_time": "2021-03-22T03:56:09.231802Z",
          "start_time": "2021-03-22T03:56:08.553142Z"
        }
      },
      "source": [
        "model_new = nn.Sequential(\n",
        "    nn.Linear(2,  30),\n",
        "    nn.Tanh(),\n",
        "    nn.Linear(30,  30),\n",
        "    nn.Tanh(),\n",
        "    nn.Linear(30, 2),\n",
        ")\n",
        "\n",
        "visualize2DSoftmax(X_test, y_test, model_new, title=\"Initial Model\")\n",
        "plt.show()\n",
        "\n",
        "checkpoint_dict = torch.load('model.pt', map_location=device)\n",
        "\n",
        "\n",
        "model_new.load_state_dict(checkpoint_dict['model_state_dict'])\n",
        "\n",
        "visualize2DSoftmax(X_test, y_test, model_new, title=\"Loaded Model\")\n",
        "plt.show()"
      ],
      "execution_count": null,
      "outputs": []
    },
    {
      "cell_type": "code",
      "metadata": {
        "ExecuteTime": {
          "end_time": "2021-03-22T03:56:09.568173Z",
          "start_time": "2021-03-22T03:56:09.233253Z"
        }
      },
      "source": [
        "sns.lineplot(x='epoch', y='train Acc', data=results_pd, label='Train')\n",
        "sns.lineplot(x='epoch', y='test Acc', data=results_pd, label='Validation')"
      ],
      "execution_count": null,
      "outputs": []
    },
    {
      "cell_type": "code",
      "metadata": {
        "ExecuteTime": {
          "end_time": "2021-03-22T03:56:09.823298Z",
          "start_time": "2021-03-22T03:56:09.569471Z"
        }
      },
      "source": [
        "sns.lineplot(x='total time', y='train F1', data=results_pd, label='Train')\n",
        "sns.lineplot(x='total time', y='test F1', data=results_pd, label='Validation')"
      ],
      "execution_count": null,
      "outputs": []
    },
    {
      "cell_type": "code",
      "metadata": {
        "ExecuteTime": {
          "end_time": "2021-03-22T03:56:10.548208Z",
          "start_time": "2021-03-22T03:56:09.824633Z"
        },
        "tags": [
          "remove_output"
        ]
      },
      "source": [
        "training_loader = DataLoader(train_dataset, batch_size=len(train_dataset), shuffle=True)\n",
        "testing_loader = DataLoader(test_dataset, batch_size=len(test_dataset))\n",
        "model_gd = nn.Sequential(\n",
        "    nn.Linear(2,  30),\n",
        "    nn.Tanh(),\n",
        "    nn.Linear(30,  30),\n",
        "    nn.Tanh(),\n",
        "    nn.Linear(30, 2),\n",
        ")\n",
        "results_true_gd = train_simple_network(model_gd, loss_func, training_loader, epochs=5, test_loader=testing_loader, checkpoint_file='model.pt', score_funcs={'Acc':accuracy_score,'F1': f1_score})"
      ],
      "execution_count": null,
      "outputs": []
    },
    {
      "cell_type": "code",
      "metadata": {
        "ExecuteTime": {
          "end_time": "2021-03-22T03:56:10.804880Z",
          "start_time": "2021-03-22T03:56:10.553937Z"
        }
      },
      "source": [
        "sns.lineplot(x='total time', y='test Acc', data=results_pd, label='SGD, B=1')\n",
        "sns.lineplot(x='total time', y='test Acc', data=results_true_gd, label='GD, B=N')"
      ],
      "execution_count": null,
      "outputs": []
    },
    {
      "cell_type": "code",
      "metadata": {
        "ExecuteTime": {
          "end_time": "2021-03-22T03:56:13.570509Z",
          "start_time": "2021-03-22T03:56:12.336621Z"
        },
        "tags": [
          "remove_output"
        ]
      },
      "source": [
        "training_loader = DataLoader(train_dataset, batch_size=32, shuffle=True)\n",
        "model_sgd = nn.Sequential(\n",
        "    nn.Linear(2,  30),\n",
        "    nn.Tanh(),\n",
        "    nn.Linear(30,  30),\n",
        "    nn.Tanh(),\n",
        "    nn.Linear(30, 2),\n",
        ")\n",
        "results_batched = train_simple_network(model_sgd, loss_func, training_loader, epochs=5, test_loader=testing_loader, checkpoint_file='model.pt', score_funcs={'Acc':accuracy_score,'F1': f1_score})"
      ],
      "execution_count": null,
      "outputs": []
    },
    {
      "cell_type": "code",
      "metadata": {
        "ExecuteTime": {
          "end_time": "2021-03-22T03:56:13.867710Z",
          "start_time": "2021-03-22T03:56:13.578197Z"
        }
      },
      "source": [
        "sns.lineplot(x='total time', y='test Acc', data=results_pd, label='SGD, B=1')\n",
        "sns.lineplot(x='total time', y='test Acc', data=results_true_gd, label='GD, B=N')\n",
        "sns.lineplot(x='total time', y='test Acc', data=results_batched, label='SGD, B=32')"
      ],
      "execution_count": null,
      "outputs": []
    }
  ],
  "metadata": {
    "kernelspec": {
      "name": "python3",
      "language": "python",
      "display_name": "Python 3 (ipykernel)"
    }
  },
  "nbformat": 4,
  "nbformat_minor": 4
}