{
  "cells": [
    {
      "cell_type": "raw",
      "metadata": {},
      "source": [
        "---\n",
        "title: Ch1. The mechanics of learning\n",
        "format:\n",
        "  html:\n",
        "    code-fold: true\n",
        "---"
      ]
    },
    {
      "cell_type": "markdown",
      "metadata": {},
      "source": [
        "# This chapter covers\n",
        "\n",
        " -    Introducing PyTorch https://pytorch.org/docs/stable/index.html, a tensor-based API for deep learning\n",
        " -    Running faster code with PyTorch’s GPU acceleration\n",
        " -    Understanding automatic differentiation as the basis of learning\n",
        " -    Using the Dataset interface to prepare data\n",
        "\n",
        "**Figures, text, and codes taken from \"Inside Deep Learning\" by Edward Raff for GDS Fall 2023 seminar course only. Please do not distribute.**\n",
        "\n",
        "![View](raff_includesFullColorIllustrations.jpg)\n",
        "\n",
        "https://github.com/EdwardRaff/Inside-Deep-Learning\n",
        "\n",
        "## R-Python Toolkits if Run in RStudio\n",
        "\n",
        " - `library(reticulate)`\n",
        " - Gilbreth `use_python(\"/depot/gdsp/apps/MLPy/bin/python3\")`\n",
        " - Local (example only) `use_python(\"/Users/wen-wen/opt/miniconda3/envs/dl/bin/python3\")`\n",
        " - `py_config()`\n",
        " - `repl_python()`\n",
        "\n",
        "## Jupyter Kernel to Use if Run in Jupyter Notebook\n",
        "\n",
        " - Gilbreth: `MLPy-py3.8.5` or `learning/conda-2020.11-py38-gpu`\n",
        "\n",
        "# 1.1 Some characteristics of Deep Learning\n",
        "\n",
        "\"Figure 1.1 A (simplified) hierarchy of AI, ML, and deep learning\"\n",
        "\n",
        "![View](CH01_F01_Raff.png)\n",
        "\n",
        "\"Deep learning is not one algorithm, but hundreds of small algorithms that act like building blocks. Part of being a good practitioner is knowing what building blocks are available and which ones to stick together to create a larger model for your problem. Each building block is designed to work well for certain problems, giving the model valuable information.\"\n",
        "\n",
        "\"Figure 1.2 A defining characteristic of deep learning is building models from reusable blocks. Different blocks are useful for different kinds of data and can be mixed and matched to deal with different problems. The first row shows how blocks of the same type can be repeated to make a deeper model, which can improve accuracy.\"\n",
        "\n",
        "![View](CH01_F02_Raff.png)\n",
        "\n",
        "\"These building blocks define our model, but as in all ML, we also need data and a mechanism for learning. When we say learning, we are not talking about the way humans learn. In machine (and deep) learning, learning is the mechanical process of getting the model to make smart-looking predictions about data. This happens via a process called optimization or function minimization. Before we see any data, our model returns random outputs because all of the parameters (the numbers that control what is computed) are initialized to random values. In a common tool like linear regression, the regression coefficients are the parameters. By optimizing the blocks over the data, we make our models learn. This gives us the larger picture in figure 1.3.\"\n",
        "\n",
        "\"Figure 1.3 The “car” of deep learning. The car is built from many different building blocks, and we can use assortments of building blocks to build cars for different tasks. But we need fuel and wheels to make the car go. The wheels are the task of learning, which is done via a process called optimization; and the fuel is data.\"\n",
        "\n",
        "![View](CH01_F03_Raff.png)\n",
        "\n",
        "# 1.1 Common data science and ML tools from Python"
      ]
    },
    {
      "cell_type": "code",
      "metadata": {
        "ExecuteTime": {
          "end_time": "2021-03-22T05:32:54.107372Z",
          "start_time": "2021-03-22T05:32:53.400242Z"
        },
        "tags": [
          "remove_output"
        ]
      },
      "source": [
        "import seaborn as sns\n",
        "import matplotlib.pyplot as plt\n",
        "import numpy as np\n",
        "from tqdm.autonotebook import tqdm\n",
        "import pandas as pd"
      ],
      "execution_count": null,
      "outputs": []
    },
    {
      "cell_type": "code",
      "metadata": {
        "ExecuteTime": {
          "end_time": "2021-03-22T05:32:54.114216Z",
          "start_time": "2021-03-22T05:32:54.109474Z"
        },
        "tags": [
          "remove_cell"
        ]
      },
      "source": [
        "%matplotlib inline\n",
        "from matplotlib_inline.backend_inline import set_matplotlib_formats\n",
        "set_matplotlib_formats('png', 'pdf')"
      ],
      "execution_count": null,
      "outputs": []
    },
    {
      "cell_type": "markdown",
      "metadata": {},
      "source": [
        "# 1.2 The world as tensors\n",
        "\n",
        "Tensor is how we represent information in PyTorch. DL works with just one data type, and we must convert all our data into this format. \n",
        "\n",
        "\"Tensors (aka n-dimensional arrays) are used to represent both data, the inputs/outputs to any deep learning block, and the parameters that control the behavior of our networks. Two essential features are built into tensor objects: the ability to do fast parallel computation with GPUs and the ability to do some calculus (derivatives) automatically.\"\n",
        "\n",
        "\"Figure 1.4 Examples of tensors, with more dimensions or axes as we move from left to right. A scalar represents a single value. A vector is a list of values and is how we often think about one datapoint. A matrix is a grid of values and is often used for a dataset. A three-dimensional tensor can be used to represent a dataset of sequences.\"\n",
        "\n",
        "![View](CH01_F04_Raff.png)\n",
        "\n",
        "\n",
        "### Tensor dimensions (B, C, W, H)\n",
        "\n",
        "  -  B: The number of batches being used.\n",
        "  -  C: The number of channels in an input (e.g., think of \"Red, Green, Blue\" as three channels) or the number of classes/categories that a model could output.\n",
        "  -  W and H: The width and height of an image (almost always in conjunction with a \"C\" dimension for the channels of an image).\n",
        "  -  D or H: The number of neurons/outputs in a hidden layer (sometimes N is also used for this).\n",
        "  -  T: The number of items in a sequence.\n",
        "\n",
        "\"Figure 1.5 A tensor can be sliced to grab sub-tensors from a larger one. For example, in red, we grab a row-vector from the larger matrix; and in blue, we grab a column-vector from the matrix. Depending on what the tensor represents, this can let us manipulate different parts of the data.\"\n",
        "\n",
        "![View](CH01_F05_Raff.png)\n"
      ]
    },
    {
      "cell_type": "code",
      "metadata": {
        "ExecuteTime": {
          "end_time": "2021-03-22T05:32:54.669963Z",
          "start_time": "2021-03-22T05:32:54.116147Z"
        }
      },
      "source": [
        "import torch"
      ],
      "execution_count": null,
      "outputs": []
    },
    {
      "cell_type": "code",
      "metadata": {
        "ExecuteTime": {
          "end_time": "2021-03-22T05:32:54.676062Z",
          "start_time": "2021-03-22T05:32:54.671481Z"
        }
      },
      "source": [
        "torch_scalar = torch.tensor(3.14)\n",
        "torch_vector = torch.tensor([1, 2, 3, 4])\n",
        "torch_matrix = torch.tensor([[1, 2,],\n",
        "                             [3, 4,],\n",
        "                             [5, 6,], \n",
        "                             [7, 8,]])\n",
        "#You don't have to format it like I did, thats just for clarity\n",
        "torch_tensor3d = torch.tensor([\n",
        "                            [\n",
        "                            [ 1,  2,  3], \n",
        "                            [ 4,  5,  6],\n",
        "                            ],\n",
        "                            [\n",
        "                            [ 7,  8,  9], \n",
        "                            [10, 11, 12],\n",
        "                            ],\n",
        "                            [\n",
        "                            [13, 14, 15], \n",
        "                            [16, 17, 18],\n",
        "                            ],\n",
        "                            [\n",
        "                            [19, 20, 21], \n",
        "                            [22, 23, 24],\n",
        "                            ]\n",
        "                              ])"
      ],
      "execution_count": null,
      "outputs": []
    },
    {
      "cell_type": "code",
      "metadata": {
        "ExecuteTime": {
          "end_time": "2021-03-22T05:32:54.688664Z",
          "start_time": "2021-03-22T05:32:54.677220Z"
        }
      },
      "source": [
        "print(torch_scalar.shape)\n",
        "print(torch_vector.shape)\n",
        "print(torch_matrix.shape)\n",
        "print(torch_tensor3d.shape)"
      ],
      "execution_count": null,
      "outputs": []
    },
    {
      "cell_type": "markdown",
      "metadata": {},
      "source": [
        "\"PyTorch supports converting NumPy objects into their PyTorch counterparts.\" "
      ]
    },
    {
      "cell_type": "code",
      "metadata": {
        "ExecuteTime": {
          "end_time": "2021-03-22T05:32:54.694456Z",
          "start_time": "2021-03-22T05:32:54.690164Z"
        }
      },
      "source": [
        "x_np = np.random.random((4,4))\n",
        "print(x_np)"
      ],
      "execution_count": null,
      "outputs": []
    },
    {
      "cell_type": "markdown",
      "metadata": {},
      "source": [
        "\"By default, NumPy uses 64-bit floats, and PyTorch defaults to 32-bit floats. However, if you create a PyTorch tensor from a NumPy tensor, it uses the same type as the given NumPy tensor.\""
      ]
    },
    {
      "cell_type": "code",
      "metadata": {
        "ExecuteTime": {
          "end_time": "2021-03-22T05:32:54.701736Z",
          "start_time": "2021-03-22T05:32:54.697048Z"
        }
      },
      "source": [
        "x_pt = torch.tensor(x_np)\n",
        "print(x_pt)"
      ],
      "execution_count": null,
      "outputs": []
    },
    {
      "cell_type": "markdown",
      "metadata": {},
      "source": [
        "\"The most common types we care about for deep learning are 32-bit floats, 64-bit integers (Longs), and booleans (i.e., binary True/False).\"\n",
        "\n",
        "\"The following code checks what type of data is contained in our tensor using the `dtype` attribute:\""
      ]
    },
    {
      "cell_type": "code",
      "metadata": {
        "ExecuteTime": {
          "end_time": "2021-03-22T05:32:54.708524Z",
          "start_time": "2021-03-22T05:32:54.703648Z"
        }
      },
      "source": [
        "print(x_np.dtype, x_pt.dtype)"
      ],
      "execution_count": null,
      "outputs": []
    },
    {
      "cell_type": "code",
      "metadata": {
        "ExecuteTime": {
          "end_time": "2021-03-22T05:32:54.715713Z",
          "start_time": "2021-03-22T05:32:54.710165Z"
        }
      },
      "source": [
        "#Lets force them to be 32-bit floats\n",
        "x_np = np.asarray(x_np, dtype=np.float32)\n",
        "x_pt = torch.tensor(x_np, dtype=torch.float32)\n",
        "print(x_np.dtype, x_pt.dtype)"
      ],
      "execution_count": null,
      "outputs": []
    },
    {
      "cell_type": "markdown",
      "metadata": {},
      "source": [
        "### PyTorch vs NumPy Binary Masks\n",
        "\n",
        "\"A mask is a tensor that tells us which portions of another tensor are valid to use. We use masks in some of our more complex neural networks. For example, let’s say we want to find every value greater than 0.5 in a tensor.\""
      ]
    },
    {
      "cell_type": "code",
      "metadata": {
        "ExecuteTime": {
          "end_time": "2021-03-22T05:32:54.722368Z",
          "start_time": "2021-03-22T05:32:54.717373Z"
        }
      },
      "source": [
        "b_np = (x_np > 0.5)\n",
        "print(b_np)\n",
        "print(b_np.dtype)"
      ],
      "execution_count": null,
      "outputs": []
    },
    {
      "cell_type": "code",
      "metadata": {
        "ExecuteTime": {
          "end_time": "2021-03-22T05:32:54.729593Z",
          "start_time": "2021-03-22T05:32:54.724132Z"
        }
      },
      "source": [
        "b_pt = (x_pt > 0.5)\n",
        "print(b_pt)\n",
        "print(b_pt.dtype)"
      ],
      "execution_count": null,
      "outputs": []
    },
    {
      "cell_type": "markdown",
      "metadata": {},
      "source": [
        "### PyTorch vs NumPy Summation"
      ]
    },
    {
      "cell_type": "code",
      "metadata": {
        "ExecuteTime": {
          "end_time": "2021-03-22T05:32:54.737835Z",
          "start_time": "2021-03-22T05:32:54.730952Z"
        }
      },
      "source": [
        "np.sum(x_np)"
      ],
      "execution_count": null,
      "outputs": []
    },
    {
      "cell_type": "code",
      "metadata": {
        "ExecuteTime": {
          "end_time": "2021-03-22T05:32:54.743037Z",
          "start_time": "2021-03-22T05:32:54.739198Z"
        }
      },
      "source": [
        "torch.sum(x_pt)"
      ],
      "execution_count": null,
      "outputs": []
    },
    {
      "cell_type": "markdown",
      "metadata": {},
      "source": [
        "### PyTorch vs NumPy Transpose\n",
        "\n",
        "\"PyTorch requires us to specify which two dimensions to transpose. NumPy takes the two dimensions and transposes them without complaint.\""
      ]
    },
    {
      "cell_type": "code",
      "metadata": {
        "ExecuteTime": {
          "end_time": "2021-03-22T05:32:54.747879Z",
          "start_time": "2021-03-22T05:32:54.744383Z"
        }
      },
      "source": [
        "np.transpose(x_np)"
      ],
      "execution_count": null,
      "outputs": []
    },
    {
      "cell_type": "code",
      "metadata": {
        "ExecuteTime": {
          "end_time": "2021-03-22T05:32:54.755058Z",
          "start_time": "2021-03-22T05:32:54.749723Z"
        }
      },
      "source": [
        "torch.transpose(x_pt, 0, 1)"
      ],
      "execution_count": null,
      "outputs": []
    },
    {
      "cell_type": "markdown",
      "metadata": {},
      "source": [
        "## 1.2.1 PyTorch GPU acceleration\n",
        "\n",
        "\"GPUs are hardware in your computer specifically designed for 2D and 3D graphics, mainly to accelerate videos (watching an HD movie) or play video games... a lot of the math involved in making 2D and 3D graphics fast is tensor-based or at least tensor-related. For this reason, GPUs have been getting good at doing many things we want very quickly. As graphics, and thus GPUs, became better and more powerful, people realized they could also be used for scientific computing and ML.\"\n",
        "\n",
        "\"The trick to using GPUs effectively is to avoid computing on a small amount of data. This is because your computer’s CPU must first move data to the GPU, then ask the GPU to perform its math, wait for the GPU to finish, and then copy the results back from the GPU. The steps in this process are fairly slow; and if we are only calculating a few things, using a GPU takes longer than the CPU would take to do the math.\"\n",
        "\n",
        "### Benchmarking a matrix multiplication"
      ]
    },
    {
      "cell_type": "code",
      "metadata": {
        "ExecuteTime": {
          "end_time": "2021-03-22T05:32:54.763796Z",
          "start_time": "2021-03-22T05:32:54.756945Z"
        }
      },
      "source": [
        "print(torch.transpose(torch_tensor3d, 0, 2).shape)"
      ],
      "execution_count": null,
      "outputs": []
    },
    {
      "cell_type": "code",
      "metadata": {
        "ExecuteTime": {
          "end_time": "2021-03-22T05:32:59.532902Z",
          "start_time": "2021-03-22T05:32:54.765163Z"
        }
      },
      "source": [
        "import timeit\n",
        "x = torch.rand(2**11, 2**11)\n",
        "time_cpu = timeit.timeit(\"x@x\", globals=globals(), number=100)"
      ],
      "execution_count": null,
      "outputs": []
    },
    {
      "cell_type": "markdown",
      "metadata": {},
      "source": [
        "\"How do we get PyTorch to use our GPU? First we need to create a `device` reference. We can ask PyTorch to give us one using the `torch.device` function. If you have an NVIDIA GPU, and the CUDA drivers are installed properly, you should be able to pass in `cuda` as a string and get back an object representing that device:\""
      ]
    },
    {
      "cell_type": "code",
      "metadata": {
        "ExecuteTime": {
          "end_time": "2021-03-22T05:32:59.578188Z",
          "start_time": "2021-03-22T05:32:59.539627Z"
        }
      },
      "source": [
        "print(\"Is CUDA available? :\", torch.cuda.is_available())\n",
        "device = torch.device(\"cuda\")"
      ],
      "execution_count": null,
      "outputs": []
    },
    {
      "cell_type": "markdown",
      "metadata": {},
      "source": [
        "CUDA (Compute Unified Device Architecture) is a parallel computing platform and application programming interface (API) model created by NVIDIA. It allows developers to use NVIDIA GPUs (Graphics Processing Units) for general purpose processing (an approach known as GPGPU, General-Purpose computing on Graphics Processing Units).\n",
        "\n",
        "\"Now that we have a reference to the GPU (device) we want to use, we need to ask PyTorch to move that object to the given device:\""
      ]
    },
    {
      "cell_type": "code",
      "metadata": {
        "ExecuteTime": {
          "end_time": "2021-03-22T05:33:01.740576Z",
          "start_time": "2021-03-22T05:32:59.580308Z"
        }
      },
      "source": [
        "x = x.to(device)\n",
        "time_gpu = timeit.timeit(\"x@x\", globals=globals(), number=100)"
      ],
      "execution_count": null,
      "outputs": []
    },
    {
      "cell_type": "markdown",
      "metadata": {},
      "source": [
        "\"Sometimes we want to store tensors and other PyTorch objects in a list, dictionary, or other standard Python collection. To help with that, we can define this `moveTo` function, which goes recursively through the common Python and PyTorch containers and moves every object found onto the specified device:\""
      ]
    },
    {
      "cell_type": "code",
      "metadata": {
        "ExecuteTime": {
          "end_time": "2021-03-22T05:33:01.957208Z",
          "start_time": "2021-03-22T05:33:01.750393Z"
        }
      },
      "source": [
        "def moveTo(obj, device):\n",
        "    \"\"\"\n",
        "    obj: the python object to move to a device, or to move its contents to a device\n",
        "    device: the compute device to move objects to\n",
        "    \"\"\"\n",
        "    if isinstance(obj, list):\n",
        "        return [moveTo(x, device) for x in obj]\n",
        "    elif isinstance(obj, tuple):\n",
        "        return tuple(moveTo(list(obj), device))\n",
        "    elif isinstance(obj, set):\n",
        "        return set(moveTo(list(obj), device))\n",
        "    elif isinstance(obj, dict):\n",
        "        to_ret = dict()\n",
        "        for key, value in obj.items():\n",
        "            to_ret[moveTo(key, device)] = moveTo(value, device)\n",
        "        return to_ret\n",
        "    elif hasattr(obj, \"to\"):\n",
        "        return obj.to(device)\n",
        "    else:\n",
        "        return obj\n",
        "    \n",
        "some_tensors = [torch.tensor(1), torch.tensor(2)]\n",
        "print(some_tensors)\n",
        "print(moveTo(some_tensors, device))"
      ],
      "execution_count": null,
      "outputs": []
    },
    {
      "cell_type": "markdown",
      "metadata": {},
      "source": [
        "# 1.3 Automatic differentiation\n",
        "\n",
        "\"So far, we’ve seen that PyTorch provides an API similar to NumPy for performing mathematical operations on tensors, with the advantage of using a GPU (when available) to perform faster math operations.\" \n",
        "\n",
        "\"The second major foundation that PyTorch gives us is automatic differentiation: as long as we use PyTorch-provided functions, PyTorch can compute derivatives (also called gradients) automatically for us.\"\n",
        "\n",
        "### What is a derivative, and why do I care about that?\n",
        "\n",
        " - derivative of a function f(x) tells us how quickly the value of f(x) is changing\n",
        " - we can use the derivative of a function f(x) to help us find an input x\\* that is a minimizer of f(x).\n",
        " \n",
        "\" The value x\\* being a minimizer means the value of f(x\\*) is smaller than f(x\\*+z) for whatever value we set z to\"\n",
        "\n",
        "![View](ch1-eqs-to-illustrator0x.png)\n",
        " - The derivative is generally defined with respect to a single variable, but our networks will have many variables (parameters), hence gradient\n",
        " \n",
        "### Why do we want to minimize a function?\n",
        "\n",
        "\"We train neural networks by defining a loss function. The loss function tells the network, in a numeric and quantifiable way, how badly it is doing at the problem. So if the loss is high, things are going poorly. A high loss means the network is losing the game, and badly. If the loss is zero, the network has solved the problem perfectly. We don’t usually allow the loss to go negative because that gets confusing to think about.\"\n",
        "\n",
        "Example: We have the function `f(x) = (x−2)^2`."
      ]
    },
    {
      "cell_type": "code",
      "metadata": {
        "ExecuteTime": {
          "end_time": "2021-03-22T05:33:02.498610Z",
          "start_time": "2021-03-22T05:33:01.960934Z"
        }
      },
      "source": [
        "def f(x):\n",
        "    return torch.pow((x-2.0), 2)\n",
        "\n",
        "x_axis_vals = np.linspace(-7,9,100) \n",
        "y_axis_vals = f(torch.tensor(x_axis_vals)).numpy()\n",
        "\n",
        "sns.lineplot(x=x_axis_vals, y=y_axis_vals, label='$f(x)=(x-2)^2$')"
      ],
      "execution_count": null,
      "outputs": []
    },
    {
      "cell_type": "markdown",
      "metadata": {},
      "source": [
        "## 1.3.1  Using derivatives to minimize losses"
      ]
    },
    {
      "cell_type": "code",
      "metadata": {
        "ExecuteTime": {
          "end_time": "2021-03-22T05:33:02.866511Z",
          "start_time": "2021-03-22T05:33:02.501436Z"
        }
      },
      "source": [
        "def fP(x): #Defining the derivative of f(x) manually\n",
        "    return 2*x-4\n",
        "\n",
        "y_axis_vals_p = fP(torch.tensor(x_axis_vals)).numpy()\n",
        "\n",
        "#First, lets draw a black line at 0, so that we can easily tell if something is positive or negative\n",
        "sns.lineplot(x=x_axis_vals, y=[0.0]*len(x_axis_vals), label=\"0\", color='black')\n",
        "sns.lineplot(x=x_axis_vals, y=y_axis_vals, label='$f(x) = (x-2)^2$')\n",
        "sns.lineplot(x=x_axis_vals, y=y_axis_vals_p, label=\"$f'(x)=2 x - 4$\")"
      ],
      "execution_count": null,
      "outputs": []
    },
    {
      "cell_type": "markdown",
      "metadata": {},
      "source": [
        "\"Figure 1.6 The process to minimize a function `f(x)` using its derivative `f′(x)` is called gradient descent, and this figure shows how it is done. We iteratively compute `f′(x)` to decide whether x should be larger or smaller to make the value of `f(x)` as small as possible. The process stops when we are close enough to the gradient being zero. You can also stop early if you have done a lot of updates: \"close enough is good enough\" holds true for deep learning, and we rarely need to perfectly minimize a function.\"\n",
        "\n",
        "![View](CH01_F06_Raff.png)\n",
        "\n",
        "\n",
        "\n",
        "### 1.3.2  Calculating a derivative with automatic differentiation"
      ]
    },
    {
      "cell_type": "code",
      "metadata": {
        "ExecuteTime": {
          "end_time": "2021-03-22T05:33:02.872628Z",
          "start_time": "2021-03-22T05:33:02.868281Z"
        }
      },
      "source": [
        "x = torch.tensor([-3.5], requires_grad=True)\n",
        "print(x.grad)"
      ],
      "execution_count": null,
      "outputs": []
    },
    {
      "cell_type": "code",
      "metadata": {
        "ExecuteTime": {
          "end_time": "2021-03-22T05:33:02.879284Z",
          "start_time": "2021-03-22T05:33:02.874597Z"
        }
      },
      "source": [
        "value = f(x)\n",
        "print(value)"
      ],
      "execution_count": null,
      "outputs": []
    },
    {
      "cell_type": "markdown",
      "metadata": {},
      "source": [
        "\"The value 30.25 is printed, which is the correct value of `f(−3.5)`. But we also see this new `grad_fn=<PowBackward0>`. Once we tell PyTorch to start calculating gradients, it begins to keep track of every computation we do. It uses this information to go backward and calculate the gradients for everything that was used and had a `requires_grad` flag set to True.\"\n",
        "\n",
        "\"Once we have a single scalar value, we can tell PyTorch to go back and use this information to compute the gradients. This is done using the .backward() function, after which we see a gradient in our original object:\""
      ]
    },
    {
      "cell_type": "code",
      "metadata": {
        "ExecuteTime": {
          "end_time": "2021-03-22T05:33:02.887619Z",
          "start_time": "2021-03-22T05:33:02.881506Z"
        }
      },
      "source": [
        "value.backward()\n",
        "print(x.grad)"
      ],
      "execution_count": null,
      "outputs": []
    },
    {
      "cell_type": "markdown",
      "metadata": {},
      "source": [
        "\"We have now computed a gradient for the variable `x`\"\n",
        "\n",
        "\n",
        "## 1.3.3  Minimizing a function with derivatives\n"
      ]
    },
    {
      "cell_type": "code",
      "metadata": {
        "ExecuteTime": {
          "end_time": "2021-03-22T05:33:02.906233Z",
          "start_time": "2021-03-22T05:33:02.888975Z"
        }
      },
      "source": [
        "x = torch.tensor([-3.5], requires_grad=True)\n",
        "\n",
        "x_cur = x.clone()\n",
        "x_prev = x_cur*100 #Make the initial \"previous\" solution larger\n",
        "epsilon = 1e-5\n",
        "eta = 0.1\n",
        "\n",
        "while torch.linalg.norm(x_cur-x_prev) > epsilon:\n",
        "    x_prev = x_cur.clone() #We need to make a clone here so that x_prev and x_cur don't point to the same object\n",
        "    \n",
        "    #Compute our function, gradient, and update\n",
        "    value = f(x)\n",
        "    value.backward()\n",
        "    x.data -= eta * x.grad\n",
        "    x.grad.zero_() #We need to zero out the old gradient, as py-torch will not do that for us\n",
        "    \n",
        "    #What are we currently now?\n",
        "    x_cur = x.data\n",
        "    \n",
        "print(x_cur)"
      ],
      "execution_count": null,
      "outputs": []
    },
    {
      "cell_type": "code",
      "metadata": {
        "ExecuteTime": {
          "end_time": "2021-03-22T05:33:02.911171Z",
          "start_time": "2021-03-22T05:33:02.908110Z"
        }
      },
      "source": [
        "x_param = torch.nn.Parameter(torch.tensor([-3.5]), requires_grad=True)"
      ],
      "execution_count": null,
      "outputs": []
    },
    {
      "cell_type": "code",
      "metadata": {
        "ExecuteTime": {
          "end_time": "2021-03-22T05:33:02.916541Z",
          "start_time": "2021-03-22T05:33:02.913522Z"
        }
      },
      "source": [
        "optimizer = torch.optim.SGD([x_param], lr=eta)"
      ],
      "execution_count": null,
      "outputs": []
    },
    {
      "cell_type": "code",
      "metadata": {
        "ExecuteTime": {
          "end_time": "2021-03-22T05:33:02.933325Z",
          "start_time": "2021-03-22T05:33:02.918744Z"
        },
        "tags": [
          "remove_output"
        ]
      },
      "source": [
        "for epoch in range(60):\n",
        "    optimizer.zero_grad() #x.grad.zero_()\n",
        "    loss_incurred  = f(x_param)\n",
        "    loss_incurred.backward()\n",
        "    optimizer.step() #x.data -= eta * x.grad\n",
        "print(x_param.data)"
      ],
      "execution_count": null,
      "outputs": []
    },
    {
      "cell_type": "code",
      "metadata": {
        "ExecuteTime": {
          "end_time": "2021-03-22T05:33:18.679235Z",
          "start_time": "2021-03-22T05:33:02.939654Z"
        }
      },
      "source": [
        "from torch.utils.data import Dataset\n",
        "from sklearn.datasets import fetch_openml\n",
        "\n",
        "# Load data from https://www.openml.org/d/554\n",
        "X, y = fetch_openml('mnist_784', version=1, return_X_y=True)\n",
        "print(X.shape)"
      ],
      "execution_count": null,
      "outputs": []
    },
    {
      "cell_type": "code",
      "metadata": {
        "ExecuteTime": {
          "end_time": "2021-03-22T05:33:18.684096Z",
          "start_time": "2021-03-22T05:33:18.680539Z"
        }
      },
      "source": [
        "class SimpleDataset(Dataset):\n",
        "        \n",
        "    def __init__(self, X, y):\n",
        "        super(SimpleDataset, self).__init__()\n",
        "        self.X = X\n",
        "        self.y = y\n",
        "    \n",
        "    def __getitem__(self, index):\n",
        "    # Check if X and y are pandas data structures and handle indexing accordingly\n",
        "        X_data = self.X.iloc[index, :] if hasattr(self.X, 'iloc') else self.X[index, :]\n",
        "        y_data = self.y.iloc[index] if hasattr(self.y, 'iloc') else self.y[index]\n",
        "\n",
        "        inputs = torch.tensor(X_data, dtype=torch.float32)\n",
        "        targets = torch.tensor(int(y_data), dtype=torch.int64)\n",
        "    \n",
        "        return inputs, targets\n",
        "\n",
        "    def __len__(self):\n",
        "        return self.X.shape[0]\n",
        "#Now we can make a PyTorch dataset \n",
        "dataset = SimpleDataset(X, y)"
      ],
      "execution_count": null,
      "outputs": []
    },
    {
      "cell_type": "code",
      "metadata": {
        "ExecuteTime": {
          "end_time": "2021-03-22T05:33:18.698359Z",
          "start_time": "2021-03-22T05:33:18.685197Z"
        }
      },
      "source": [
        "print(\"Length: \", len(dataset))\n",
        "example, label = dataset[0]\n",
        "print(\"Features: \", example.shape) #Will return 784\n",
        "print(\"Label of index 0: \", label)"
      ],
      "execution_count": null,
      "outputs": []
    },
    {
      "cell_type": "code",
      "metadata": {
        "ExecuteTime": {
          "end_time": "2021-03-22T05:33:18.934961Z",
          "start_time": "2021-03-22T05:33:18.700260Z"
        },
        "max_h": 0.3,
        "max_w": 0.9
      },
      "source": [
        "plt.imshow(example.reshape((28,28)))"
      ],
      "execution_count": null,
      "outputs": []
    },
    {
      "cell_type": "code",
      "metadata": {
        "ExecuteTime": {
          "end_time": "2021-03-22T05:33:18.943218Z",
          "start_time": "2021-03-22T05:33:18.936102Z"
        }
      },
      "source": [
        "train_size = int(len(dataset)*0.8)\n",
        "test_size = len(dataset)-train_size\n",
        "\n",
        "train_dataset, test_dataset = torch.utils.data.random_split(dataset, (train_size, test_size))\n",
        "print(\"{} examples for training and {} for testing\".format(len(train_dataset), len(test_dataset)))"
      ],
      "execution_count": null,
      "outputs": []
    }
  ],
  "metadata": {
    "kernelspec": {
      "name": "python3",
      "language": "python",
      "display_name": "Python 3 (ipykernel)"
    }
  },
  "nbformat": 4,
  "nbformat_minor": 4
}